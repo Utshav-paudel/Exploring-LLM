{
  "nbformat": 4,
  "nbformat_minor": 0,
  "metadata": {
    "colab": {
      "provenance": [],
      "gpuType": "T4"
    },
    "kernelspec": {
      "name": "python3",
      "display_name": "Python 3"
    },
    "language_info": {
      "name": "python"
    },
    "accelerator": "GPU",
    "widgets": {
      "application/vnd.jupyter.widget-state+json": {
        "b921cf06c9df4e749c7f3a41e11c9082": {
          "model_module": "@jupyter-widgets/controls",
          "model_name": "HBoxModel",
          "model_module_version": "1.5.0",
          "state": {
            "_dom_classes": [],
            "_model_module": "@jupyter-widgets/controls",
            "_model_module_version": "1.5.0",
            "_model_name": "HBoxModel",
            "_view_count": null,
            "_view_module": "@jupyter-widgets/controls",
            "_view_module_version": "1.5.0",
            "_view_name": "HBoxView",
            "box_style": "",
            "children": [
              "IPY_MODEL_7ddf6acc7be74cc581ade51c59c25a4a",
              "IPY_MODEL_74c8ab28f13048878032a01fc6865408",
              "IPY_MODEL_d8a51269938e4caebf86e0efc1cd7ac8"
            ],
            "layout": "IPY_MODEL_3b00f7b2554643dbb3a3a7b6290f6438"
          }
        },
        "7ddf6acc7be74cc581ade51c59c25a4a": {
          "model_module": "@jupyter-widgets/controls",
          "model_name": "HTMLModel",
          "model_module_version": "1.5.0",
          "state": {
            "_dom_classes": [],
            "_model_module": "@jupyter-widgets/controls",
            "_model_module_version": "1.5.0",
            "_model_name": "HTMLModel",
            "_view_count": null,
            "_view_module": "@jupyter-widgets/controls",
            "_view_module_version": "1.5.0",
            "_view_name": "HTMLView",
            "description": "",
            "description_tooltip": null,
            "layout": "IPY_MODEL_e2a2ec4679ff40b0a5f8a580b295421e",
            "placeholder": "​",
            "style": "IPY_MODEL_0b62ae0b99254abebdb14ab2820b2eef",
            "value": "100%"
          }
        },
        "74c8ab28f13048878032a01fc6865408": {
          "model_module": "@jupyter-widgets/controls",
          "model_name": "FloatProgressModel",
          "model_module_version": "1.5.0",
          "state": {
            "_dom_classes": [],
            "_model_module": "@jupyter-widgets/controls",
            "_model_module_version": "1.5.0",
            "_model_name": "FloatProgressModel",
            "_view_count": null,
            "_view_module": "@jupyter-widgets/controls",
            "_view_module_version": "1.5.0",
            "_view_name": "ProgressView",
            "bar_style": "",
            "description": "",
            "description_tooltip": null,
            "layout": "IPY_MODEL_d8dcbf1a9e3b4636b19f1864bc88d90f",
            "max": 1377,
            "min": 0,
            "orientation": "horizontal",
            "style": "IPY_MODEL_49b040800d4e4d46bc8f779eebbd9003",
            "value": 1376
          }
        },
        "d8a51269938e4caebf86e0efc1cd7ac8": {
          "model_module": "@jupyter-widgets/controls",
          "model_name": "HTMLModel",
          "model_module_version": "1.5.0",
          "state": {
            "_dom_classes": [],
            "_model_module": "@jupyter-widgets/controls",
            "_model_module_version": "1.5.0",
            "_model_name": "HTMLModel",
            "_view_count": null,
            "_view_module": "@jupyter-widgets/controls",
            "_view_module_version": "1.5.0",
            "_view_name": "HTMLView",
            "description": "",
            "description_tooltip": null,
            "layout": "IPY_MODEL_d722913851bf4540ba4fc5854449a84e",
            "placeholder": "​",
            "style": "IPY_MODEL_da1b12d26c014667b70cf6c6d395e021",
            "value": " 1376/1377 [02:53&lt;00:00,  7.28it/s]"
          }
        },
        "3b00f7b2554643dbb3a3a7b6290f6438": {
          "model_module": "@jupyter-widgets/base",
          "model_name": "LayoutModel",
          "model_module_version": "1.2.0",
          "state": {
            "_model_module": "@jupyter-widgets/base",
            "_model_module_version": "1.2.0",
            "_model_name": "LayoutModel",
            "_view_count": null,
            "_view_module": "@jupyter-widgets/base",
            "_view_module_version": "1.2.0",
            "_view_name": "LayoutView",
            "align_content": null,
            "align_items": null,
            "align_self": null,
            "border": null,
            "bottom": null,
            "display": null,
            "flex": null,
            "flex_flow": null,
            "grid_area": null,
            "grid_auto_columns": null,
            "grid_auto_flow": null,
            "grid_auto_rows": null,
            "grid_column": null,
            "grid_gap": null,
            "grid_row": null,
            "grid_template_areas": null,
            "grid_template_columns": null,
            "grid_template_rows": null,
            "height": null,
            "justify_content": null,
            "justify_items": null,
            "left": null,
            "margin": null,
            "max_height": null,
            "max_width": null,
            "min_height": null,
            "min_width": null,
            "object_fit": null,
            "object_position": null,
            "order": null,
            "overflow": null,
            "overflow_x": null,
            "overflow_y": null,
            "padding": null,
            "right": null,
            "top": null,
            "visibility": null,
            "width": null
          }
        },
        "e2a2ec4679ff40b0a5f8a580b295421e": {
          "model_module": "@jupyter-widgets/base",
          "model_name": "LayoutModel",
          "model_module_version": "1.2.0",
          "state": {
            "_model_module": "@jupyter-widgets/base",
            "_model_module_version": "1.2.0",
            "_model_name": "LayoutModel",
            "_view_count": null,
            "_view_module": "@jupyter-widgets/base",
            "_view_module_version": "1.2.0",
            "_view_name": "LayoutView",
            "align_content": null,
            "align_items": null,
            "align_self": null,
            "border": null,
            "bottom": null,
            "display": null,
            "flex": null,
            "flex_flow": null,
            "grid_area": null,
            "grid_auto_columns": null,
            "grid_auto_flow": null,
            "grid_auto_rows": null,
            "grid_column": null,
            "grid_gap": null,
            "grid_row": null,
            "grid_template_areas": null,
            "grid_template_columns": null,
            "grid_template_rows": null,
            "height": null,
            "justify_content": null,
            "justify_items": null,
            "left": null,
            "margin": null,
            "max_height": null,
            "max_width": null,
            "min_height": null,
            "min_width": null,
            "object_fit": null,
            "object_position": null,
            "order": null,
            "overflow": null,
            "overflow_x": null,
            "overflow_y": null,
            "padding": null,
            "right": null,
            "top": null,
            "visibility": null,
            "width": null
          }
        },
        "0b62ae0b99254abebdb14ab2820b2eef": {
          "model_module": "@jupyter-widgets/controls",
          "model_name": "DescriptionStyleModel",
          "model_module_version": "1.5.0",
          "state": {
            "_model_module": "@jupyter-widgets/controls",
            "_model_module_version": "1.5.0",
            "_model_name": "DescriptionStyleModel",
            "_view_count": null,
            "_view_module": "@jupyter-widgets/base",
            "_view_module_version": "1.2.0",
            "_view_name": "StyleView",
            "description_width": ""
          }
        },
        "d8dcbf1a9e3b4636b19f1864bc88d90f": {
          "model_module": "@jupyter-widgets/base",
          "model_name": "LayoutModel",
          "model_module_version": "1.2.0",
          "state": {
            "_model_module": "@jupyter-widgets/base",
            "_model_module_version": "1.2.0",
            "_model_name": "LayoutModel",
            "_view_count": null,
            "_view_module": "@jupyter-widgets/base",
            "_view_module_version": "1.2.0",
            "_view_name": "LayoutView",
            "align_content": null,
            "align_items": null,
            "align_self": null,
            "border": null,
            "bottom": null,
            "display": null,
            "flex": null,
            "flex_flow": null,
            "grid_area": null,
            "grid_auto_columns": null,
            "grid_auto_flow": null,
            "grid_auto_rows": null,
            "grid_column": null,
            "grid_gap": null,
            "grid_row": null,
            "grid_template_areas": null,
            "grid_template_columns": null,
            "grid_template_rows": null,
            "height": null,
            "justify_content": null,
            "justify_items": null,
            "left": null,
            "margin": null,
            "max_height": null,
            "max_width": null,
            "min_height": null,
            "min_width": null,
            "object_fit": null,
            "object_position": null,
            "order": null,
            "overflow": null,
            "overflow_x": null,
            "overflow_y": null,
            "padding": null,
            "right": null,
            "top": null,
            "visibility": null,
            "width": null
          }
        },
        "49b040800d4e4d46bc8f779eebbd9003": {
          "model_module": "@jupyter-widgets/controls",
          "model_name": "ProgressStyleModel",
          "model_module_version": "1.5.0",
          "state": {
            "_model_module": "@jupyter-widgets/controls",
            "_model_module_version": "1.5.0",
            "_model_name": "ProgressStyleModel",
            "_view_count": null,
            "_view_module": "@jupyter-widgets/base",
            "_view_module_version": "1.2.0",
            "_view_name": "StyleView",
            "bar_color": null,
            "description_width": ""
          }
        },
        "d722913851bf4540ba4fc5854449a84e": {
          "model_module": "@jupyter-widgets/base",
          "model_name": "LayoutModel",
          "model_module_version": "1.2.0",
          "state": {
            "_model_module": "@jupyter-widgets/base",
            "_model_module_version": "1.2.0",
            "_model_name": "LayoutModel",
            "_view_count": null,
            "_view_module": "@jupyter-widgets/base",
            "_view_module_version": "1.2.0",
            "_view_name": "LayoutView",
            "align_content": null,
            "align_items": null,
            "align_self": null,
            "border": null,
            "bottom": null,
            "display": null,
            "flex": null,
            "flex_flow": null,
            "grid_area": null,
            "grid_auto_columns": null,
            "grid_auto_flow": null,
            "grid_auto_rows": null,
            "grid_column": null,
            "grid_gap": null,
            "grid_row": null,
            "grid_template_areas": null,
            "grid_template_columns": null,
            "grid_template_rows": null,
            "height": null,
            "justify_content": null,
            "justify_items": null,
            "left": null,
            "margin": null,
            "max_height": null,
            "max_width": null,
            "min_height": null,
            "min_width": null,
            "object_fit": null,
            "object_position": null,
            "order": null,
            "overflow": null,
            "overflow_x": null,
            "overflow_y": null,
            "padding": null,
            "right": null,
            "top": null,
            "visibility": null,
            "width": null
          }
        },
        "da1b12d26c014667b70cf6c6d395e021": {
          "model_module": "@jupyter-widgets/controls",
          "model_name": "DescriptionStyleModel",
          "model_module_version": "1.5.0",
          "state": {
            "_model_module": "@jupyter-widgets/controls",
            "_model_module_version": "1.5.0",
            "_model_name": "DescriptionStyleModel",
            "_view_count": null,
            "_view_module": "@jupyter-widgets/base",
            "_view_module_version": "1.2.0",
            "_view_name": "StyleView",
            "description_width": ""
          }
        }
      }
    }
  },
  "cells": [
    {
      "cell_type": "markdown",
      "source": [
        "# Tutorial on Hugging Face full training cycle"
      ],
      "metadata": {
        "id": "KUo6AKuJCYGk"
      }
    },
    {
      "cell_type": "code",
      "source": [
        "!pip install datasets\n",
        "!pip install transformers"
      ],
      "metadata": {
        "id": "BNcoUZgnDGyh"
      },
      "execution_count": null,
      "outputs": []
    },
    {
      "cell_type": "code",
      "execution_count": null,
      "metadata": {
        "id": "yP4nEVEaCN8-"
      },
      "outputs": [],
      "source": [
        "#@ Preparing tokenized datasets with datacollator for padding\n",
        "from datasets import load_dataset\n",
        "from transformers import AutoTokenizer, DataCollatorWithPadding\n",
        "\n",
        "raw_datasets = load_dataset(\"glue\", \"mrpc\")                                       # loading mrpcs datasets from hugging face datasets\n",
        "checkpoint = \"bert-base-uncased\"                                                  # checkpoint specifying bert based model\n",
        "tokenizer = AutoTokenizer.from_pretrained(checkpoint)                             # tokenizer\n",
        "\n",
        "\n",
        "def tokenize_function(example):\n",
        "    return tokenizer(example[\"sentence1\"], example[\"sentence2\"], truncation=True) # tokenize function to tokenize sentences and truncate if needed\n",
        "\n",
        "\n",
        "tokenized_datasets = raw_datasets.map(tokenize_function, batched=True)            # creating tokenized datasets in batch\n",
        "data_collator = DataCollatorWithPadding(tokenizer=tokenizer)                      # specifying data collator for dynamic padding\n"
      ]
    },
    {
      "cell_type": "code",
      "source": [
        "tokenized_datasets"
      ],
      "metadata": {
        "id": "XcJyzAdNGQ1F"
      },
      "execution_count": null,
      "outputs": []
    },
    {
      "cell_type": "code",
      "source": [
        "# preprocessing datasets before passing to modelss\n",
        "tokenized_datasets = tokenized_datasets.remove_columns([\"sentence1\",\"sentence2\",\"idx\"])                                             # model doesnot expect this column so removing them\n",
        "tokenized_datasets = tokenized_datasets.rename_column(\"label\",\"labels\")                                                             # model expect labels as name\n",
        "tokenized_datasets.set_format(\"torch\")                                                                         # torch tensors instead of list\n",
        "tokenized_datasets[\"train\"].column_names                                                                       # checking names of column from training data"
      ],
      "metadata": {
        "colab": {
          "base_uri": "https://localhost:8080/"
        },
        "id": "cFfwadMZElPC",
        "outputId": "a2af6aa6-c54b-43d8-b880-1a382f09c599"
      },
      "execution_count": null,
      "outputs": [
        {
          "output_type": "execute_result",
          "data": {
            "text/plain": [
              "['labels', 'input_ids', 'token_type_ids', 'attention_mask']"
            ]
          },
          "metadata": {},
          "execution_count": 4
        }
      ]
    },
    {
      "cell_type": "code",
      "source": [
        "# defining dataloaders\n",
        "from torch.utils.data import DataLoader\n",
        "train_dataloader = DataLoader(\n",
        "    tokenized_datasets[\"train\"], shuffle=True, batch_size=8, collate_fn = data_collator                       # preparing training data loader with batch size, shuffling and padding\n",
        ")\n",
        "eval_dataloader = DataLoader(\n",
        "    tokenized_datasets[\"validation\"], batch_size=8, collate_fn = data_collator                               # preparing validation data loader with batch size and padding\n",
        ")"
      ],
      "metadata": {
        "id": "umsr5Z8EHJKC"
      },
      "execution_count": null,
      "outputs": []
    },
    {
      "cell_type": "code",
      "source": [
        "for batch in train_dataloader:\n",
        "  break\n",
        "{k: v.shape for k,v in batch.items()}"
      ],
      "metadata": {
        "id": "g_2HH0lXHqJP"
      },
      "execution_count": null,
      "outputs": []
    },
    {
      "cell_type": "code",
      "source": [
        "# loading the model\n",
        "from transformers import AutoModelForSequenceClassification\n",
        "model = AutoModelForSequenceClassification.from_pretrained(checkpoint, num_labels=2)                        # loading model for classification"
      ],
      "metadata": {
        "id": "m3d4gk7rJS7g"
      },
      "execution_count": null,
      "outputs": []
    },
    {
      "cell_type": "code",
      "source": [
        "# check by passing batch to our model\n",
        "\n",
        "outputs = model(**batch)\n",
        "print(outputs.loss,outputs.logits.shape)"
      ],
      "metadata": {
        "colab": {
          "base_uri": "https://localhost:8080/"
        },
        "id": "WaFy3bfaKNxK",
        "outputId": "78c85c64-d3ab-4844-9d5c-9c747084a553"
      },
      "execution_count": null,
      "outputs": [
        {
          "output_type": "stream",
          "name": "stdout",
          "text": [
            "tensor(0.4100, grad_fn=<NllLossBackward0>) torch.Size([8, 2])\n"
          ]
        }
      ]
    },
    {
      "cell_type": "code",
      "source": [
        "from transformers import AdamW\n",
        "optimizer = AdamW(model.parameters(), lr=5e-5)                                                               # adding optimization and regularization"
      ],
      "metadata": {
        "id": "BdK5tjboKtJ-"
      },
      "execution_count": null,
      "outputs": []
    },
    {
      "cell_type": "code",
      "source": [
        "# using get_scheduler use linear decay from maximum 5e-5 to 0\n",
        "from transformers import get_scheduler\n",
        "num_epochs = 3\n",
        "num_training_steps = num_epochs*len(train_dataloader)\n",
        "lr_scheduler = get_scheduler(\n",
        "    \"linear\",                                                                                                # using linear decay to reduce learning rate linearly\n",
        "    optimizer=optimizer,                                                                                     # optimizer with admaw and learning rate\n",
        "    num_warmup_steps=0,\n",
        "    num_training_steps=num_training_steps,                                                                   # giving training steps\n",
        "\n",
        ")"
      ],
      "metadata": {
        "id": "ZkQycZ9IL0HZ"
      },
      "execution_count": null,
      "outputs": []
    },
    {
      "cell_type": "code",
      "source": [
        "import torch\n",
        "device = torch.device(\"cuda\") if torch.cuda.is_available() else torch.device(\"cpu\")                         # run gpu if available\n",
        "model.to(device)"
      ],
      "metadata": {
        "id": "sCXesx8nNSRz"
      },
      "execution_count": null,
      "outputs": []
    },
    {
      "cell_type": "code",
      "source": [
        "# training model\n",
        "from tqdm.auto import tqdm\n",
        "progress_bar = tqdm(range(num_training_steps))\n",
        "\n",
        "model.train()\n",
        "for epoch in range(num_epochs):                                  # taking each epoch\n",
        "  for batch in train_dataloader:                                 # loading a batch\n",
        "    batch = {k : v.to(device) for k,v in batch.items()}          # taking value from batch dict\n",
        "    outputs = model(**batch)                                     # unpacking batch dict and passing to model\n",
        "    loss = outputs.loss                                          # calculating loss from output\n",
        "    loss.backward()                                              # backpropagation to update weights\n",
        "\n",
        "    #steps for optimization\n",
        "    optimizer.step()                                            # optimizing model using adamw and learning rate\n",
        "    lr_scheduler.step()                                         # lr scheduler decrease learning rate form 5e-5 to 0\n",
        "    optimizer.zero_grad()                                       # make gradient descent zero\n",
        "    progress_bar.update(1)                                      # updating progress bar"
      ],
      "metadata": {
        "colab": {
          "base_uri": "https://localhost:8080/",
          "height": 49,
          "referenced_widgets": [
            "b921cf06c9df4e749c7f3a41e11c9082",
            "7ddf6acc7be74cc581ade51c59c25a4a",
            "74c8ab28f13048878032a01fc6865408",
            "d8a51269938e4caebf86e0efc1cd7ac8",
            "3b00f7b2554643dbb3a3a7b6290f6438",
            "e2a2ec4679ff40b0a5f8a580b295421e",
            "0b62ae0b99254abebdb14ab2820b2eef",
            "d8dcbf1a9e3b4636b19f1864bc88d90f",
            "49b040800d4e4d46bc8f779eebbd9003",
            "d722913851bf4540ba4fc5854449a84e",
            "da1b12d26c014667b70cf6c6d395e021"
          ]
        },
        "id": "9UDWK7DGkBkW",
        "outputId": "f3c113ae-bec9-478b-aa84-0de9946679af"
      },
      "execution_count": null,
      "outputs": [
        {
          "output_type": "display_data",
          "data": {
            "text/plain": [
              "  0%|          | 0/1377 [00:00<?, ?it/s]"
            ],
            "application/vnd.jupyter.widget-view+json": {
              "version_major": 2,
              "version_minor": 0,
              "model_id": "b921cf06c9df4e749c7f3a41e11c9082"
            }
          },
          "metadata": {}
        }
      ]
    },
    {
      "cell_type": "code",
      "source": [
        "!pip install evaluate"
      ],
      "metadata": {
        "id": "G6MMa8xloYcK"
      },
      "execution_count": null,
      "outputs": []
    },
    {
      "cell_type": "code",
      "source": [
        "# evaluating model\n",
        "import evaluate\n",
        "\n",
        "metric = evaluate.load(\"glue\",\"mrpc\")                                               # loading metrc\n",
        "model.eval()\n",
        "for batch in eval_dataloader:\n",
        "  batch = {k: v.to(device) for k,v in batch.items()}                                 # taking   value from batch\n",
        "  with torch.no_grad():                                                              # disabling gradient descents\n",
        "    outputs = model(**batch)                                                         # getting output\n",
        "\n",
        "  logits = outputs.logits                                                            # taking logits only\n",
        "  predictions = torch.argmax(logits, dim=-1)                                         # getting max value as predictions from logits\n",
        "  metric.add_batch(predictions=predictions, references=batch[\"labels\"])              # adding predictions and refrenc to evaluate\n",
        "\n",
        "metric.compute()"
      ],
      "metadata": {
        "colab": {
          "base_uri": "https://localhost:8080/"
        },
        "id": "M-Vf4de_mxlr",
        "outputId": "63d6c261-ae08-4998-fa78-3590f75366ed"
      },
      "execution_count": null,
      "outputs": [
        {
          "output_type": "execute_result",
          "data": {
            "text/plain": [
              "{'accuracy': 0.8602941176470589, 'f1': 0.9028960817717206}"
            ]
          },
          "metadata": {},
          "execution_count": 16
        }
      ]
    },
    {
      "cell_type": "code",
      "source": [],
      "metadata": {
        "id": "sBcdD7uqofgc"
      },
      "execution_count": null,
      "outputs": []
    }
  ]
}