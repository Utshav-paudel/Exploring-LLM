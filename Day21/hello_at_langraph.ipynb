{
 "cells": [
  {
   "cell_type": "markdown",
   "id": "2811f825",
   "metadata": {},
   "source": [
    "# Notebook: 1 Agent Executor"
   ]
  },
  {
   "cell_type": "code",
   "execution_count": 7,
   "id": "3385bc74",
   "metadata": {},
   "outputs": [],
   "source": [
    "# !pip install langgraph"
   ]
  },
  {
   "cell_type": "markdown",
   "id": "8bc4fa0b",
   "metadata": {},
   "source": [
    "# Nodes have the function that can be called as needed.In our case Node 1 is starting point and Node2 is our finish point"
   ]
  },
  {
   "cell_type": "code",
   "execution_count": 8,
   "id": "859082ae",
   "metadata": {},
   "outputs": [],
   "source": [
    "def function1(input1):\n",
    "    return input1 + \"Hi\""
   ]
  },
  {
   "cell_type": "code",
   "execution_count": 13,
   "id": "3f671f85",
   "metadata": {},
   "outputs": [],
   "source": [
    "def function2(input2):\n",
    "    return input2 + \"there\""
   ]
  },
  {
   "cell_type": "code",
   "execution_count": 14,
   "id": "866c6a8b",
   "metadata": {},
   "outputs": [],
   "source": [
    "from langgraph.graph import Graph\n",
    "\n",
    "# Define a langchain graph\n",
    "workflow = Graph()\n",
    "\n",
    "workflow.add_node(\"node_1\", function1)\n",
    "workflow.add_node(\"node_2\", function2)\n",
    "\n",
    "workflow.add_edge(\"node_1\", \"node_2\")\n",
    "\n",
    "workflow.set_entry_point(\"node_1\")\n",
    "workflow.set_finish_point(\"node_2\")\n",
    "\n",
    "\n",
    "app = workflow.compile()"
   ]
  },
  {
   "cell_type": "code",
   "execution_count": 15,
   "id": "c48736af",
   "metadata": {},
   "outputs": [
    {
     "data": {
      "text/plain": [
       "'HelloHithere'"
      ]
     },
     "execution_count": 15,
     "metadata": {},
     "output_type": "execute_result"
    }
   ],
   "source": [
    "app.invoke(\"Hello\")"
   ]
  },
  {
   "cell_type": "code",
   "execution_count": 16,
   "id": "a547d033",
   "metadata": {},
   "outputs": [
    {
     "name": "stdout",
     "output_type": "stream",
     "text": [
      "Output from : node_1\n",
      "-----\n",
      "HelloHi\n",
      "\n",
      "----\n",
      "\n",
      "Output from : node_2\n",
      "-----\n",
      "HelloHithere\n",
      "\n",
      "----\n",
      "\n",
      "Output from : __end__\n",
      "-----\n",
      "HelloHithere\n",
      "\n",
      "----\n",
      "\n"
     ]
    }
   ],
   "source": [
    "input = \"Hello\"\n",
    "for output in app.stream(input):\n",
    "    # stream() yields dict with output keyed by node name\n",
    "    for key,value in output.items():\n",
    "        print(f\"Output from : {key}\")\n",
    "        print(\"-----\")\n",
    "        print(value)\n",
    "    print(\"\\n----\\n\")\n",
    "    "
   ]
  },
  {
   "cell_type": "code",
   "execution_count": 17,
   "id": "270212bc",
   "metadata": {},
   "outputs": [],
   "source": [
    "import os \n",
    "os.environ[\"OPENAI_API_KEY\"]  = "
   ]
  },
  {
   "cell_type": "code",
   "execution_count": 18,
   "id": "80561441",
   "metadata": {},
   "outputs": [],
   "source": [
    "from langchain_openai import ChatOpenAI"
   ]
  },
  {
   "cell_type": "code",
   "execution_count": 19,
   "id": "58f0e575",
   "metadata": {},
   "outputs": [],
   "source": [
    "model = ChatOpenAI(temperature=0)"
   ]
  },
  {
   "cell_type": "code",
   "execution_count": 21,
   "id": "8cabbc3e",
   "metadata": {},
   "outputs": [
    {
     "data": {
      "text/plain": [
       "'Hello! How can I assist you today?'"
      ]
     },
     "execution_count": 21,
     "metadata": {},
     "output_type": "execute_result"
    }
   ],
   "source": [
    "model.invoke(\"Hi there\").content"
   ]
  },
  {
   "cell_type": "markdown",
   "id": "6f601fd1",
   "metadata": {},
   "source": [
    "# Making Graph with LLM"
   ]
  },
  {
   "cell_type": "code",
   "execution_count": 26,
   "id": "400497c4",
   "metadata": {},
   "outputs": [],
   "source": [
    "def function_1(input1):\n",
    "    response = model.invoke(input1).content\n",
    "    return response"
   ]
  },
  {
   "cell_type": "code",
   "execution_count": 27,
   "id": "ee7a942a",
   "metadata": {},
   "outputs": [],
   "source": [
    "def function_2(input2):\n",
    "    return \"Agent says : \" + input2"
   ]
  },
  {
   "cell_type": "code",
   "execution_count": 29,
   "id": "3a58b304",
   "metadata": {},
   "outputs": [],
   "source": [
    "#Define a langchain graph\n",
    "workflow = Graph()\n",
    "\n",
    "workflow.add_node(\"agent\", function_1)\n",
    "workflow.add_node(\"node_2\", function_2)\n",
    "\n",
    "workflow.add_edge(\"agent\", \"node_2\")\n",
    "workflow.set_entry_point(\"agent\")\n",
    "workflow.set_finish_point(\"node_2\")\n",
    "\n",
    "app = workflow.compile()"
   ]
  },
  {
   "cell_type": "code",
   "execution_count": 30,
   "id": "4aaffd20",
   "metadata": {},
   "outputs": [
    {
     "data": {
      "text/plain": [
       "'Agent says : LLM stands for Master of Laws, which is an advanced postgraduate degree in law. It is typically pursued by individuals who already have a law degree and wish to specialize in a specific area of law or gain expertise in a particular legal field. The LLM degree is recognized internationally and can lead to career opportunities in various legal sectors.'"
      ]
     },
     "execution_count": 30,
     "metadata": {},
     "output_type": "execute_result"
    }
   ],
   "source": [
    "app.invoke(\"what is llm\")"
   ]
  },
  {
   "cell_type": "code",
   "execution_count": 31,
   "id": "3b98bcc1",
   "metadata": {},
   "outputs": [
    {
     "name": "stdout",
     "output_type": "stream",
     "text": [
      "Output From agent : \n",
      "------\n",
      "A beautiful way to live life is to embrace gratitude, kindness, and positivity. It involves being present in the moment, cherishing the little things, and finding joy in everyday experiences. It also means being true to yourself, following your passions, and cultivating meaningful relationships with others. Living a beautiful life is about finding balance, practicing self-care, and being open to new possibilities and experiences. Ultimately, it is about living authentically and with purpose, making the most of each day and spreading love and light wherever you go.\n",
      "\n",
      "----\n",
      "\n",
      "Output From node_2 : \n",
      "------\n",
      "Agent says : A beautiful way to live life is to embrace gratitude, kindness, and positivity. It involves being present in the moment, cherishing the little things, and finding joy in everyday experiences. It also means being true to yourself, following your passions, and cultivating meaningful relationships with others. Living a beautiful life is about finding balance, practicing self-care, and being open to new possibilities and experiences. Ultimately, it is about living authentically and with purpose, making the most of each day and spreading love and light wherever you go.\n",
      "\n",
      "----\n",
      "\n",
      "Output From __end__ : \n",
      "------\n",
      "Agent says : A beautiful way to live life is to embrace gratitude, kindness, and positivity. It involves being present in the moment, cherishing the little things, and finding joy in everyday experiences. It also means being true to yourself, following your passions, and cultivating meaningful relationships with others. Living a beautiful life is about finding balance, practicing self-care, and being open to new possibilities and experiences. Ultimately, it is about living authentically and with purpose, making the most of each day and spreading love and light wherever you go.\n",
      "\n",
      "----\n",
      "\n"
     ]
    }
   ],
   "source": [
    "input = \"what is beautiful way to live life\"\n",
    "\n",
    "for output in app.stream(input):\n",
    "    for key,value in output.items():\n",
    "        print(f\"Output From {key} : \")\n",
    "        print(\"------\")\n",
    "        print(value)\n",
    "        print(\"\\n----\\n\")"
   ]
  },
  {
   "cell_type": "markdown",
   "id": "80c23c55",
   "metadata": {},
   "source": [
    "# Building more complex graph"
   ]
  },
  {
   "cell_type": "code",
   "execution_count": 32,
   "id": "0ffe33eb",
   "metadata": {},
   "outputs": [],
   "source": [
    "def function_1(input1):\n",
    "    prompt = \"\"\"Your task is to provide the city name based on the user query\\n\n",
    "    Nothing more just the city name mentioned. Following is the user query  : \"\"\" + input1\n",
    "    response = model.invoke(prompt)\n",
    "    return response.content"
   ]
  },
  {
   "cell_type": "code",
   "execution_count": 33,
   "id": "1bdb1d80",
   "metadata": {},
   "outputs": [],
   "source": [
    "def fucntion_2(input2):\n",
    "    return \"Agent says : \" + input2\n"
   ]
  },
  {
   "cell_type": "code",
   "execution_count": 34,
   "id": "93a0843f",
   "metadata": {},
   "outputs": [],
   "source": [
    "# creating functional graph\n",
    "workflow = Graph()\n",
    "\n",
    "workflow.add_node(\"agent\" , function_1)\n",
    "workflow.add_node(\"node_2\", function_2)\n",
    "\n",
    "workflow.add_edge(\"agent\", \"node_2\")\n",
    "\n",
    "workflow.set_entry_point(\"agent\")\n",
    "workflow.set_finish_point(\"node_2\")\n",
    "\n",
    "app = workflow.compile()\n"
   ]
  },
  {
   "cell_type": "code",
   "execution_count": 35,
   "id": "678518a7",
   "metadata": {},
   "outputs": [
    {
     "data": {
      "text/plain": [
       "'Agent says : Kathmandu'"
      ]
     },
     "execution_count": 35,
     "metadata": {},
     "output_type": "execute_result"
    }
   ],
   "source": [
    "app.invoke(\"What is the weather in kathmandu\")"
   ]
  },
  {
   "cell_type": "code",
   "execution_count": 36,
   "id": "055bfd6e",
   "metadata": {},
   "outputs": [
    {
     "name": "stdout",
     "output_type": "stream",
     "text": [
      "Output form  agent :\n",
      "------\n",
      "Kathmandu\n",
      "\n",
      "----\n",
      "\n",
      "Output form  node_2 :\n",
      "------\n",
      "Agent says : Kathmandu\n",
      "\n",
      "----\n",
      "\n",
      "Output form  __end__ :\n",
      "------\n",
      "Agent says : Kathmandu\n",
      "\n",
      "----\n",
      "\n"
     ]
    }
   ],
   "source": [
    "input = \"What is the weather in Kathmandu\"\n",
    "\n",
    "for output in app.stream(input):\n",
    "    for key,value in output.items():\n",
    "        print(f\"Output form  {key} :\")\n",
    "        print(\"------\")\n",
    "        print(value)\n",
    "        print(\"\\n----\\n\")\n",
    "        "
   ]
  },
  {
   "cell_type": "markdown",
   "id": "00f15218",
   "metadata": {},
   "source": [
    "# Setting up logging "
   ]
  },
  {
   "cell_type": "code",
   "execution_count": 42,
   "id": "14ca9955",
   "metadata": {},
   "outputs": [],
   "source": [
    "import os\n",
    "os.environ[\"OPENAI_API_KEY\"]  = "
   ]
  },
  {
   "cell_type": "code",
   "execution_count": 43,
   "id": "26d8340a",
   "metadata": {},
   "outputs": [],
   "source": [
    "os.environ[\"LANGCHAIN_TRACING_V2\"] = \"true\"\n",
    "os.environ[\"LANGCHAIN_API_KEY\"] = \n",
    "os.environ[\"LANGCHAIN_PROJECT\"] = \"LangGraph_01\""
   ]
  },
  {
   "cell_type": "markdown",
   "id": "0f5ad4c5",
   "metadata": {},
   "source": [
    "## 1. Making Graphstate"
   ]
  },
  {
   "cell_type": "code",
   "execution_count": 46,
   "id": "721e6c7d",
   "metadata": {},
   "outputs": [],
   "source": [
    "from typing import TypedDict, Annotated, List, Union\n",
    "from langchain_core.agents import AgentAction, AgentFinish\n",
    "from langchain_core.messages import BaseMessage\n",
    "import operator\n",
    "\n",
    "\n",
    "class AgentState(TypedDict):\n",
    "   # The input string\n",
    "   input: str\n",
    "   # The list of previous messages in the conversation\n",
    "   chat_history: list[BaseMessage]\n",
    "   # The outcome of a given call to the agent\n",
    "   # Needs `None` as a valid type, since this is what this will start as\n",
    "   agent_outcome: Union[AgentAction, AgentFinish, None]\n",
    "   # List of actions and corresponding observations\n",
    "   # Here we annotate this with `operator.add` to indicate that operations to\n",
    "   # this state should be ADDED to the existing values (not overwrite it)\n",
    "   intermediate_steps: Annotated[list[tuple[AgentAction, str]], operator.add]"
   ]
  },
  {
   "cell_type": "markdown",
   "id": "03127a74",
   "metadata": {},
   "source": [
    "## 2.Creating custom tools"
   ]
  },
  {
   "cell_type": "code",
   "execution_count": 47,
   "id": "e47577b2",
   "metadata": {},
   "outputs": [],
   "source": [
    "from langchain.tools import BaseTool, StructuredTool, Tool, tool"
   ]
  },
  {
   "cell_type": "code",
   "execution_count": 48,
   "id": "501d624a",
   "metadata": {},
   "outputs": [],
   "source": [
    "import random\n",
    "\n",
    "@tool(\"lower_case\", return_direct=True)\n",
    "def to_lower_case(input:str) -> str:\n",
    "  \"\"\"Returns the input as all lower case.\"\"\"\n",
    "  return input.lower()\n",
    "\n",
    "@tool(\"random_number\", return_direct=True)\n",
    "def random_number_maker(input:str) -> str:\n",
    "    \"\"\"Returns a random number between 0-100.\"\"\"\n",
    "    return random.randint(0, 100)\n",
    "\n",
    "tools = [to_lower_case,random_number_maker]"
   ]
  },
  {
   "cell_type": "code",
   "execution_count": 49,
   "id": "8bfee4fa",
   "metadata": {},
   "outputs": [
    {
     "data": {
      "text/plain": [
       "74"
      ]
     },
     "execution_count": 49,
     "metadata": {},
     "output_type": "execute_result"
    }
   ],
   "source": [
    "random_number_maker.run('random')"
   ]
  },
  {
   "cell_type": "code",
   "execution_count": 50,
   "id": "9dccb63f",
   "metadata": {},
   "outputs": [
    {
     "data": {
      "text/plain": [
       "'sam'"
      ]
     },
     "execution_count": 50,
     "metadata": {},
     "output_type": "execute_result"
    }
   ],
   "source": [
    "to_lower_case.run('SAM')"
   ]
  },
  {
   "cell_type": "code",
   "execution_count": null,
   "id": "e7a905f3",
   "metadata": {},
   "outputs": [],
   "source": []
  }
 ],
 "metadata": {
  "kernelspec": {
   "display_name": "llmscrap",
   "language": "python",
   "name": "llmscrap"
  },
  "language_info": {
   "codemirror_mode": {
    "name": "ipython",
    "version": 3
   },
   "file_extension": ".py",
   "mimetype": "text/x-python",
   "name": "python",
   "nbconvert_exporter": "python",
   "pygments_lexer": "ipython3",
   "version": "3.12.1"
  }
 },
 "nbformat": 4,
 "nbformat_minor": 5
}
